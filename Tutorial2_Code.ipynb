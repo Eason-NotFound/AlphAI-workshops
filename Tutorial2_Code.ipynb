{
 "cells": [
  {
   "cell_type": "markdown",
   "id": "535b6d39",
   "metadata": {},
   "source": [
    "## Download the Module first"
   ]
  },
  {
   "cell_type": "code",
   "execution_count": 1,
   "id": "08aeb2e0",
   "metadata": {},
   "outputs": [
    {
     "name": "stdout",
     "output_type": "stream",
     "text": [
      "Defaulting to user installation because normal site-packages is not writeable\n",
      "Requirement already satisfied: alphai-api in c:\\users\\user\\appdata\\roaming\\python\\python311\\site-packages (0.0.6)\n",
      "Requirement already satisfied: pynput in c:\\users\\user\\appdata\\roaming\\python\\python311\\site-packages (from alphai-api) (1.8.1)\n",
      "Requirement already satisfied: numpy in c:\\users\\user\\appdata\\roaming\\python\\python311\\site-packages (from alphai-api) (1.26.4)\n",
      "Requirement already satisfied: six in c:\\programdata\\anaconda3\\lib\\site-packages (from pynput->alphai-api) (1.16.0)\n",
      "Note: you may need to restart the kernel to use updated packages.\n"
     ]
    }
   ],
   "source": [
    "pip install alphai-api"
   ]
  },
  {
   "cell_type": "code",
   "execution_count": 2,
   "id": "96985a2f",
   "metadata": {},
   "outputs": [
    {
     "name": "stdout",
     "output_type": "stream",
     "text": [
      "Connected to AlphAI, type help(alphai) for more info\n"
     ]
    }
   ],
   "source": [
    "from alphai import *"
   ]
  },
  {
   "cell_type": "markdown",
   "id": "03d95356",
   "metadata": {},
   "source": [
    "### Functions we are using in this task\n",
    "* motor(left,right,time): used to control the moveing of the robots\n",
    "* set_distance(True/False): open up the ultrasound sensor\n",
    "* get_distance(): return the distance to obstacles(in cm)\n",
    "* set_camera(str/none): str could be \"2x1\",\"4x3\"...,\"64x68\" that means the pixels. If you input nothing, it will close down the camera\n",
    "* get_camera(): return a integer list of the image\n",
    "* is_connected(): return a boolean value about whether the robot has been conneted"
   ]
  },
  {
   "cell_type": "markdown",
   "id": "2b41ba7e",
   "metadata": {},
   "source": [
    "## Sart Navigation and programing\n",
    "* Navigation with ultra sound\n",
    "* Navigation with camera"
   ]
  },
  {
   "cell_type": "code",
   "execution_count": 3,
   "id": "5dece0f9",
   "metadata": {},
   "outputs": [
    {
     "name": "stdout",
     "output_type": "stream",
     "text": [
      "attempt connection wifi\n",
      "Connection to robot successful\n",
      "Connected to the robot successfully!\n"
     ]
    }
   ],
   "source": [
    "# Connect to robot's Wi-Fi first and test the connection\n",
    "connect_wifi()\n",
    "if is_connected():\n",
    "    print(\"Connected to the robot successfully!\")\n",
    "# is_connected: a boolean value indicating whether the connection is successful \n",
    "\n",
    "# Prepare remote control\n",
    "def forward():\n",
    "    motor(15, 15, 0.3)  # Move forward for 1 seconds\n",
    "\n",
    "def backward():\n",
    "    motor(-15, -15, 0.3)  # Move backward for 1 seconds\n",
    "\n",
    "def left():\n",
    "    motor(-20, 20, 0.1)  # Turn left for 1 seconds\n",
    "\n",
    "def right():\n",
    "    motor(20, -20, 0.1)  # Turn right for 1 seconds\n",
    "    \n",
    "def stop():\n",
    "    motor(0, 0, 1)  # Stop the robot for 1 second"
   ]
  },
  {
   "cell_type": "markdown",
   "id": "8b4f9a29",
   "metadata": {},
   "source": [
    "Made changes.\n",
    "\n",
    "The code now collects ultrasound data for 20 seconds, stores each reading with a timestamp in a pandas DataFrame, and prints the DataFrame with the real time as the leftmost column. You can run the updated cell to see the results."
   ]
  },
  {
   "cell_type": "markdown",
   "id": "25d33ab9",
   "metadata": {},
   "source": [
    "## Navigation with ultra sound\n",
    "In ths task we will use following functions to create a autonomous function ultrasound_race() that could let the robot to make decisions based on the distances to obstacle.\n",
    "* get_distance() --> returns the distance measured by the robot's ultrasound sensor\n",
    "* set_distance(True) --> activate the ultrasound sensor\n",
    "* <span style=\"color:red\">Careful that if the robot is placed in front of a wall with an angle, the distance will be greater since the ultrasound will reflect off the wall\n",
    "* In the following code, we created a dataframe to store all values reported from robots which should be sensed every two seconds."
   ]
  },
  {
   "cell_type": "code",
   "execution_count": 4,
   "id": "fe78d7d6",
   "metadata": {},
   "outputs": [
    {
     "name": "stdout",
     "output_type": "stream",
     "text": [
      "                   Time  Distance (cm)\n",
      "0   2025/08/06 14:04:02      19.892395\n",
      "1   2025/08/06 14:04:04      18.616665\n",
      "2   2025/08/06 14:04:06      19.818794\n",
      "3   2025/08/06 14:04:08       8.427179\n",
      "4   2025/08/06 14:04:10      10.667885\n",
      "5   2025/08/06 14:04:12       5.209231\n",
      "6   2025/08/06 14:04:15       5.250120\n",
      "7   2025/08/06 14:04:17       9.265399\n",
      "8   2025/08/06 14:04:19      12.238014\n",
      "9   2025/08/06 14:04:21      16.997469\n",
      "10  2025/08/06 14:04:23      16.972935\n",
      "11  2025/08/06 14:04:25      17.038357\n",
      "12  2025/08/06 14:04:27      16.968845\n",
      "13  2025/08/06 14:04:29      16.911602\n",
      "14  2025/08/06 14:04:31      16.968845\n",
      "15  2025/08/06 14:04:33      16.932047\n",
      "16  2025/08/06 14:04:35      16.952492\n",
      "17  2025/08/06 14:04:37      17.042446\n",
      "18  2025/08/06 14:04:39      16.993380\n",
      "19  2025/08/06 14:04:41      17.026091\n"
     ]
    }
   ],
   "source": [
    "import pandas as pd\n",
    "from datetime import datetime\n",
    "import time\n",
    "\n",
    "# Set up the ultrasound sensor\n",
    "set_distance(True) # activate the ultrasound sensor\n",
    "\n",
    "# Collect ultrasound data once per second for 20 seconds\n",
    "data = []\n",
    "for i in range(20):\n",
    "    d = get_distance() # get the distance measured by the sensor\n",
    "    timestamp = datetime.now().strftime('%Y/%m/%d %H:%M:%S')\n",
    "    data.append([timestamp, d])\n",
    "    #print(f\"{timestamp} distance: {d}\")\n",
    "    time.sleep(2)  # wait for 2 second\n",
    "\n",
    "# Create DataFrame with timestamp as leftmost column\n",
    "df = pd.DataFrame(data, columns=[\"Time\", \"Distance (cm)\"])\n",
    "print(df)"
   ]
  },
  {
   "cell_type": "markdown",
   "id": "8046257f",
   "metadata": {},
   "source": [
    "Next, we are trying to define an automatical function: ultrasound_race to help us away from the obstacle.\n",
    "* <span style=\"color:red\">Here we ask robot to go forward if there is no obstacle (distance >10) and ask it to turn right when it detects an obstacle (distance<10)"
   ]
  },
  {
   "cell_type": "code",
   "execution_count": 4,
   "id": "39f05177",
   "metadata": {},
   "outputs": [],
   "source": [
    "def forward():\n",
    "    motor(15, 15, 0.1) # move forward at speed 15 for 0.1 seconds\n",
    "def right():\n",
    "    motor(20, -20, 0.1) # turn right at speed 20 for 0.1 seconds\n",
    "def ultrasound_race():\n",
    "    d = get_distance()\n",
    "    if d < 10:  # if the distance is less than 10 cm\n",
    "        print(\"Obstacle detected! Turn right.\")\n",
    "        right()  # turn right\n",
    "    else:\n",
    "        print(\"Path clear. Move forward.\")\n",
    "        forward()"
   ]
  },
  {
   "cell_type": "markdown",
   "id": "b19e5fed",
   "metadata": {},
   "source": [
    "Last, we test our program in the main function"
   ]
  },
  {
   "cell_type": "code",
   "execution_count": null,
   "id": "44421cf9",
   "metadata": {},
   "outputs": [],
   "source": [
    "if __name__ == '__main__':\n",
    "    # Test the ultrasound\n",
    "    \n",
    "    set_distance(True) # activate the ultrasound sensor\n",
    "\n",
    "    ultrasound_race()\n",
    "\n",
    "    set_distance(False) # deactivate the ultrasound sensor"
   ]
  },
  {
   "cell_type": "markdown",
   "id": "c452e080",
   "metadata": {},
   "source": [
    "## Nevigation with the camera\n",
    "The camera will film an image with a grid of pixels. In a color image, each pixel contains 3 values: red, green and blue. In this task, we are trying to complete camera_race() function to let the robot to make decisions based on camera sensors.\n",
    "Following are the things we may need:\n",
    "* set_camera(\"8x6\") --> set the mode of camera\n",
    "* get_camera() --> This function will return a matrix of list indicating the different values for each pixel including three colors **(If the color is dark that means the obstacle is close, the values will be lower --> usually we use 100 as seperation)**\n",
    "* <span style=\"color:red\">In other words, we could access the pixel value of row i, column j and in channel k (k = 0 for red, k = 1 for green, 2 for blue) with image[i][j][k] where image = get_camera()</span>\n",
    "* For example, in the folowing codes, we are asking it to return us the values of 3 channals of the first row with the second column as circled in the figure\n",
    "\n",
    "![Sample Camera image](8x6%20Camera.png)"
   ]
  },
  {
   "cell_type": "code",
   "execution_count": 19,
   "id": "e3778bee",
   "metadata": {},
   "outputs": [
    {
     "name": "stdout",
     "output_type": "stream",
     "text": [
      "red 148 green 131 blue 137\n",
      "red 150 green 133 blue 136\n",
      "red 134 green 129 blue 127\n",
      "red 150 green 129 blue 133\n",
      "red 168 green 139 blue 145\n",
      "red 169 green 141 blue 149\n",
      "red 164 green 138 blue 145\n",
      "red 164 green 137 blue 143\n",
      "red 169 green 142 blue 148\n",
      "red 173 green 140 blue 148\n"
     ]
    }
   ],
   "source": [
    "set_camera(\"8x6\") # set the camera to the correct resolution\n",
    "for i in range(10):\n",
    "    image = get_camera() # get the camera image\n",
    "    print('red', image[0][1][0], 'green', image[0][1][1], 'blue', image[0][1][2])\n",
    "# red 205 green 204 blue 207"
   ]
  },
  {
   "cell_type": "markdown",
   "id": "daf131e8",
   "metadata": {},
   "source": [
    "### Next we create a dataframe to store 20 data with a 2 second time interval"
   ]
  },
  {
   "cell_type": "code",
   "execution_count": 10,
   "id": "80f1a124",
   "metadata": {},
   "outputs": [
    {
     "name": "stdout",
     "output_type": "stream",
     "text": [
      "                   Time                                         Image Data\n",
      "0   2025/08/01 15:09:28  [[[94, 121, 127], [142, 153, 144], [152, 162, ...\n",
      "1   2025/08/01 15:09:30  [[[95, 121, 127], [142, 152, 143], [152, 161, ...\n",
      "2   2025/08/01 15:09:33  [[[95, 121, 127], [142, 153, 142], [152, 162, ...\n",
      "3   2025/08/01 15:09:35  [[[94, 121, 126], [142, 154, 142], [152, 163, ...\n",
      "4   2025/08/01 15:09:37  [[[94, 121, 129], [143, 154, 146], [153, 164, ...\n",
      "5   2025/08/01 15:09:39  [[[96, 120, 127], [144, 153, 143], [154, 162, ...\n",
      "6   2025/08/01 15:09:41  [[[95, 121, 128], [143, 153, 143], [153, 161, ...\n",
      "7   2025/08/01 15:09:43  [[[97, 121, 125], [146, 155, 144], [155, 165, ...\n",
      "8   2025/08/01 15:09:45  [[[94, 120, 126], [143, 153, 142], [153, 163, ...\n",
      "9   2025/08/01 15:09:48  [[[93, 120, 126], [141, 152, 141], [152, 161, ...\n",
      "10  2025/08/01 15:09:50  [[[95, 119, 127], [143, 152, 143], [153, 162, ...\n",
      "11  2025/08/01 15:09:52  [[[94, 120, 124], [142, 152, 141], [152, 161, ...\n",
      "12  2025/08/01 15:09:54  [[[92, 120, 125], [141, 153, 142], [152, 162, ...\n",
      "13  2025/08/01 15:09:56  [[[93, 119, 128], [141, 152, 144], [151, 161, ...\n",
      "14  2025/08/01 15:09:58  [[[94, 120, 125], [142, 152, 142], [152, 161, ...\n",
      "15  2025/08/01 15:10:00  [[[92, 120, 126], [141, 153, 142], [151, 162, ...\n",
      "16  2025/08/01 15:10:03  [[[93, 120, 125], [143, 153, 143], [152, 162, ...\n",
      "17  2025/08/01 15:10:05  [[[95, 120, 125], [144, 153, 142], [153, 162, ...\n",
      "18  2025/08/01 15:10:07  [[[94, 120, 126], [144, 152, 143], [154, 162, ...\n",
      "19  2025/08/01 15:10:09  [[[94, 120, 126], [142, 153, 143], [153, 163, ...\n"
     ]
    }
   ],
   "source": [
    "import pandas as pd\n",
    "from datetime import datetime\n",
    "import time\n",
    "\n",
    "set_camera(\"8x6\") # set the camera to the correct resolution\n",
    "\n",
    "# Collect camera data once per second for 20 seconds\n",
    "data = []\n",
    "for i in range(20):\n",
    "    image = get_camera() # get the camera image\n",
    "    timestamp = datetime.now().strftime('%Y/%m/%d %H:%M:%S')\n",
    "    data.append([timestamp, image])\n",
    "    time.sleep(2)  # wait for 2 second\n",
    "\n",
    "# Create DataFrame with timestamp as leftmost column\n",
    "df = pd.DataFrame(data, columns=[\"Time\", \"Image Data\"])\n",
    "print(df)"
   ]
  },
  {
   "cell_type": "markdown",
   "id": "e0621658",
   "metadata": {},
   "source": [
    "Next, we are trying to define an automatical function called camera_race() which based only on the color of a piexel in the bottom part of the image (like image[4][3][0/1/2])"
   ]
  },
  {
   "cell_type": "code",
   "execution_count": null,
   "id": "4bd89efb",
   "metadata": {},
   "outputs": [],
   "source": [
    "def camera_race():\n",
    "    image = get_camera()\n",
    "    # Check region for right: rows 2,3,4; columns 0,1,2,3,4,5\n",
    "    right_region = [image[r][c] for r in [2,3,4] for c in [0,1,2,3]]\n",
    "    # Check region for left: rows 2,3,4; columns 2,3,4,5,6,7\n",
    "    left_region = [image[r][c] for r in [2,3,4] for c in [4,5,6,7]]\n",
    "    # Check region for backward: rows 2,3,4; columns 0,1,2\n",
    "    backward_region = [image[r][c] for r in [2,3,4] for c in [2,3,4,5]]\n",
    "\n",
    "    # Helper to check if at least 30% of pixels in region are \"dark\" (all channels < 100)\n",
    "    def is_most_dark(region, threshold=0.4):\n",
    "        dark_count = sum(\n",
    "            sum(channel < 90 for channel in pixel) for pixel in region\n",
    "        )\n",
    "        total_channels = len(region) * len(region[0]) if region else 1\n",
    "        return dark_count / total_channels > threshold\n",
    "    if is_most_dark(backward_region, threshold=0.4):\n",
    "        print(\"No clear path, gobackward\")\n",
    "        backward()\n",
    "    elif is_most_dark(right_region, threshold=0.3):\n",
    "        print(\"Obstacle on left, turn right\")\n",
    "        right()\n",
    "    elif is_most_dark(left_region, threshold=0.3):\n",
    "        print(\"Obstacle on right, turn left\")\n",
    "        left()\n",
    "    else:\n",
    "        print(\"Path clear, go forward\")\n",
    "        forward()"
   ]
  },
  {
   "cell_type": "markdown",
   "id": "3acdb167",
   "metadata": {},
   "source": [
    "Last, let's test in the main function"
   ]
  },
  {
   "cell_type": "code",
   "execution_count": 11,
   "id": "ace5f459",
   "metadata": {},
   "outputs": [
    {
     "name": "stdout",
     "output_type": "stream",
     "text": [
      "Path clear, go forward\n",
      "Path clear, go forward\n",
      "Obstacle on left, turn right\n",
      "Obstacle on right, turn left\n",
      "Path clear, go forward\n",
      "Obstacle on left, turn right\n",
      "Obstacle on left, turn right\n",
      "Path clear, go forward\n",
      "Obstacle on right, turn left\n",
      "Obstacle on left, turn right\n",
      "Path clear, go forward\n",
      "Path clear, go forward\n",
      "Obstacle on left, turn right\n",
      "Path clear, go forward\n",
      "Obstacle on right, turn left\n",
      "Obstacle on right, turn left\n",
      "Obstacle on right, turn left\n",
      "Obstacle on left, turn right\n",
      "Obstacle on left, turn right\n",
      "Obstacle on left, turn right\n",
      "Obstacle on left, turn right\n",
      "Obstacle on right, turn left\n",
      "Obstacle on left, turn right\n",
      "Path clear, go forward\n",
      "Obstacle on left, turn right\n",
      "Path clear, go forward\n",
      "Obstacle on right, turn left\n",
      "Obstacle on right, turn left\n",
      "Obstacle on left, turn right\n",
      "Obstacle on left, turn right\n"
     ]
    }
   ],
   "source": [
    "if __name__ == '__main__':\n",
    "    # Test\n",
    "    set_camera(\"8x6\")\n",
    "\n",
    "    for i in range(30):\n",
    "        camera_race()\n",
    "\n",
    "    set_camera() # deactivate the camera sensor"
   ]
  }
 ],
 "metadata": {
  "kernelspec": {
   "display_name": "base",
   "language": "python",
   "name": "python3"
  },
  "language_info": {
   "codemirror_mode": {
    "name": "ipython",
    "version": 3
   },
   "file_extension": ".py",
   "mimetype": "text/x-python",
   "name": "python",
   "nbconvert_exporter": "python",
   "pygments_lexer": "ipython3",
   "version": "3.11.3"
  }
 },
 "nbformat": 4,
 "nbformat_minor": 5
}
