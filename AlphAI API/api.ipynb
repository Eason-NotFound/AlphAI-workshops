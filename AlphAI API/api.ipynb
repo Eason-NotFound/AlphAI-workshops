{
 "cells": [
  {
   "cell_type": "markdown",
   "id": "8efbc2e2",
   "metadata": {},
   "source": [
    "# API Library"
   ]
  },
  {
   "cell_type": "markdown",
   "id": "307187b5",
   "metadata": {},
   "source": [
    "## 1. Installation\n",
    "Install the latest version of the library"
   ]
  },
  {
   "cell_type": "code",
   "execution_count": 1,
   "id": "fd2f13db",
   "metadata": {},
   "outputs": [
    {
     "name": "stdout",
     "output_type": "stream",
     "text": [
      "Defaulting to user installation because normal site-packages is not writeable\n",
      "Requirement already satisfied: alphai-api in c:\\users\\user\\appdata\\roaming\\python\\python311\\site-packages (0.0.6)\n",
      "Requirement already satisfied: pynput in c:\\users\\user\\appdata\\roaming\\python\\python311\\site-packages (from alphai-api) (1.8.1)\n",
      "Requirement already satisfied: numpy in c:\\users\\user\\appdata\\roaming\\python\\python311\\site-packages (from alphai-api) (1.26.4)\n",
      "Requirement already satisfied: six in c:\\programdata\\anaconda3\\lib\\site-packages (from pynput->alphai-api) (1.16.0)\n",
      "Note: you may need to restart the kernel to use updated packages.\n"
     ]
    }
   ],
   "source": [
    "pip install alphai-api"
   ]
  },
  {
   "cell_type": "markdown",
   "id": "be054955",
   "metadata": {},
   "source": [
    "## 2. Start with python\n",
    "* Before start programing, remember to connect to the robot first with following steps: run AlphAI and use the grahical interface to connect either to the simulated robot or to a real robot (Wi-Fi or Bluetooth).\n",
    "* After that, if you run the code below, you should notice that the software now displays \"The robot is controlled by a Python program\" in the graphical interface."
   ]
  },
  {
   "cell_type": "code",
   "execution_count": 16,
   "id": "05ffe24e",
   "metadata": {},
   "outputs": [],
   "source": [
    "# module is called alphai\n",
    "import alphai # OR from alphai import *"
   ]
  },
  {
   "cell_type": "code",
   "execution_count": 7,
   "id": "c223e151",
   "metadata": {},
   "outputs": [],
   "source": [
    "# You can control the robot to move with motor() now.\n",
    "alphai.motor(20,-20,5) # Start turning on itself for 5 seconds\n"
   ]
  },
  {
   "cell_type": "markdown",
   "id": "8f1786ae",
   "metadata": {},
   "source": [
    "Example python script"
   ]
  },
  {
   "cell_type": "code",
   "execution_count": 47,
   "id": "3bfdf74c",
   "metadata": {},
   "outputs": [
    {
     "name": "stdout",
     "output_type": "stream",
     "text": [
      "Connected to AlphAI, type help(alphai) for more info\n",
      "attempt connection wifi\n",
      "Connection to robot successful\n"
     ]
    }
   ],
   "source": [
    "import time\n",
    "import alphai\n",
    "alphai.open_api() # Sometimes necessary to ensure that the connection between the robot and the Python program is established.\n",
    "alphai.connect_wifi() # Connect to the robot's Wi-Fi network\n",
    "\n",
    "time.sleep(1) # Wait for 1 second to ensure the connection is established\n",
    "\n",
    "for i in range(50):\n",
    "    if alphai.get_blockade(): # If robot is blocked.\n",
    "        alphai.motor(20,-20,0.2) # Rotate slightly to the right.\n",
    "    else:\n",
    "        alphai.motor(30,30,0.3) # Go straight ahead."
   ]
  },
  {
   "cell_type": "markdown",
   "id": "75b02883",
   "metadata": {},
   "source": [
    "## 3. Functions defined in this module\n",
    "In this segment, we are showing all functions in the library with a short explaination code."
   ]
  },
  {
   "cell_type": "markdown",
   "id": "3f77cf8e",
   "metadata": {},
   "source": [
    "* <1> open_api() --> None\n",
    "| Normally automatically called when the alphai module is imported. It can establish the connection between your python program and the AlphAI software."
   ]
  },
  {
   "cell_type": "markdown",
   "id": "34a3e79f",
   "metadata": {},
   "source": [
    "* <2> bluetooth_list() --> List[int] | Returns the list of AlphAI robot numbers known by the computer's Bluetooth system, to which it is possible to connect."
   ]
  },
  {
   "cell_type": "code",
   "execution_count": 48,
   "id": "1ab69778",
   "metadata": {},
   "outputs": [
    {
     "name": "stdout",
     "output_type": "stream",
     "text": [
      "[1638]\n"
     ]
    }
   ],
   "source": [
    "l = alphai.bluetooth_list() # Get the list of AlphAI robots known by the computer's Bluetooth system.\n",
    "print(l) # Print the list of AlphAI robots."
   ]
  },
  {
   "cell_type": "markdown",
   "id": "e91fe873",
   "metadata": {},
   "source": [
    "* <span style=\"color:red\"> Reminder: If you want to connect the robot with code, you always need to open up AlphAI software first.\n",
    "* <3> connect_bluetooth(int) --> bool | Attempts a Bluetooth connection with the robot corresponding to the specified number.\n",
    "* <4> disconnect() --> None | Disconnect from the robot and returns to the connection screen."
   ]
  },
  {
   "cell_type": "code",
   "execution_count": 8,
   "id": "163877a8",
   "metadata": {},
   "outputs": [
    {
     "name": "stdout",
     "output_type": "stream",
     "text": [
      "attempt connection 1638\n",
      "Connection to robot successful\n"
     ]
    }
   ],
   "source": [
    "alphai.connect_bluetooth(l[0]) # Connect to the first robot in the list.\n"
   ]
  },
  {
   "cell_type": "markdown",
   "id": "09cee6a8",
   "metadata": {},
   "source": [
    "Before we disconnect, you could go to AlphAI software and see whether the interface is changed to the dashboard."
   ]
  },
  {
   "cell_type": "code",
   "execution_count": null,
   "id": "35f6c349",
   "metadata": {},
   "outputs": [],
   "source": [
    "alphai.disconnect() # Disconnect from the robot and return to the connection screen."
   ]
  },
  {
   "cell_type": "markdown",
   "id": "9e2a8fe1",
   "metadata": {},
   "source": [
    "* <5> connect_wifi() --> bool | Tries to connect to the robot to which the computer is connected via Wi-Fi. \n",
    "* <span style=\"color:red\">Reminder: You must connect to the robot via Wi-Fi in advance (If your computer is not connected with a real robot's Wi-Fi, this code will connect your computer with the 2D simulator ).</span>\n",
    "* By running this code, you could access to the Alphai software interface."
   ]
  },
  {
   "cell_type": "code",
   "execution_count": null,
   "id": "0d42f677",
   "metadata": {},
   "outputs": [],
   "source": [
    "alphai.connect_wifi() # Connect to the robot via Wi-Fi.\n"
   ]
  },
  {
   "cell_type": "markdown",
   "id": "d0b634a2",
   "metadata": {},
   "source": [
    "Before we disconnect, you could go to AlphAI software and see whether the interface is changed to the dashboard."
   ]
  },
  {
   "cell_type": "code",
   "execution_count": null,
   "id": "5e612520",
   "metadata": {},
   "outputs": [],
   "source": [
    "alphai.disconnect() # Disconnect from the robot and return to the connection screen."
   ]
  },
  {
   "cell_type": "markdown",
   "id": "9e45a461",
   "metadata": {},
   "source": [
    "* <6> connect(str) --> bool | To connect to the simulated AlphAI robot, use the call: <span style=\"color:red\">connect(\"Simulation\")</span>. Return True if the connection was successful, False otherwise."
   ]
  },
  {
   "cell_type": "code",
   "execution_count": 20,
   "id": "709776c3",
   "metadata": {},
   "outputs": [
    {
     "name": "stdout",
     "output_type": "stream",
     "text": [
      "attempt connection Simulation\n",
      "Connection to robot successful\n"
     ]
    },
    {
     "data": {
      "text/plain": [
       "True"
      ]
     },
     "execution_count": 20,
     "metadata": {},
     "output_type": "execute_result"
    }
   ],
   "source": [
    "alphai.connect(\"Simulation\") # Connect to the simulated AlphAI robot."
   ]
  },
  {
   "cell_type": "markdown",
   "id": "9fdd44c2",
   "metadata": {},
   "source": [
    "Before we disconnect, you could go to AlphAI software and see whether the interface is changed to the dashboard."
   ]
  },
  {
   "cell_type": "code",
   "execution_count": 21,
   "id": "ced7802e",
   "metadata": {},
   "outputs": [],
   "source": [
    "alphai.disconnect() # Disconnect from the robot and return to the connection screen."
   ]
  },
  {
   "cell_type": "markdown",
   "id": "6a3f8b7d",
   "metadata": {},
   "source": [
    "* <7> is_connected() --> bool | Returns True if a robot is connected, False otherwise"
   ]
  },
  {
   "cell_type": "code",
   "execution_count": null,
   "id": "3aa66cdd",
   "metadata": {},
   "outputs": [
    {
     "name": "stdout",
     "output_type": "stream",
     "text": [
      "No robot is connected.\n"
     ]
    }
   ],
   "source": [
    "print(alphai.is_connected()) # Print True or False depending on connection status"
   ]
  },
  {
   "cell_type": "markdown",
   "id": "321936de",
   "metadata": {},
   "source": [
    "* <8> motor(left,right,duration:\"float\") --> None | Control the robot to move: left: the speed of left motors; right: the speed of right motors; duration: time duration (in seconds); the speed is between -50 and 50."
   ]
  },
  {
   "cell_type": "code",
   "execution_count": 24,
   "id": "2e76ca37",
   "metadata": {},
   "outputs": [
    {
     "name": "stdout",
     "output_type": "stream",
     "text": [
      "attempt connection Simulation\n",
      "Connection to robot successful\n"
     ]
    }
   ],
   "source": [
    "alphai.connect(\"Simulation\") # Connect to the simulated AlphAI robot.\n",
    "\n",
    "alphai.motor(20,-20,5) # Start turning on itself for 5 seconds"
   ]
  },
  {
   "cell_type": "code",
   "execution_count": null,
   "id": "3f3906e2",
   "metadata": {},
   "outputs": [],
   "source": [
    "alphai.disconnect() # Disconnect from the robot and return to the connection screen."
   ]
  },
  {
   "cell_type": "markdown",
   "id": "4967900c",
   "metadata": {},
   "source": [
    "* <9> wait_for_key() --> List | Wait for user to press or release a key, and returns the list of keyboard keys that is preessed simultaneously"
   ]
  },
  {
   "cell_type": "code",
   "execution_count": 29,
   "id": "d54ac637",
   "metadata": {},
   "outputs": [],
   "source": [
    "l = alphai.wait_for_key() # record the key pressed by the user."
   ]
  },
  {
   "cell_type": "code",
   "execution_count": 30,
   "id": "69c49e93",
   "metadata": {},
   "outputs": [
    {
     "name": "stdout",
     "output_type": "stream",
     "text": [
      "['C', '>', 'D', 'W', 'R', ':', '\\x03', 'Y', '<', '*', ')', 'S', 'F', '#', 'A', '\\x1a', '\\x16', 'N', '(', 'T', '\"', '_', 'L', 'shift_r', 'enter']\n"
     ]
    }
   ],
   "source": [
    "print(l) # Print the list of keys pressed by the user."
   ]
  },
  {
   "cell_type": "markdown",
   "id": "65560ef9",
   "metadata": {},
   "source": [
    "### Next part is the functions relating to sensors, so we connect to the robot in advance"
   ]
  },
  {
   "cell_type": "code",
   "execution_count": 37,
   "id": "ded06d34",
   "metadata": {},
   "outputs": [
    {
     "name": "stdout",
     "output_type": "stream",
     "text": [
      "attempt connection wifi\n",
      "Connection to robot successful\n",
      "Is connected? True\n"
     ]
    }
   ],
   "source": [
    "import alphai\n",
    "alphai.connect_wifi()\n",
    "\n",
    "print(\"Is connected?\", alphai.is_connected()) "
   ]
  },
  {
   "cell_type": "markdown",
   "id": "180851cc",
   "metadata": {},
   "source": [
    "* <10> get_blockade() --> bool | Return True if the robot is blocked (by and obstacle), and False otherwise"
   ]
  },
  {
   "cell_type": "code",
   "execution_count": 35,
   "id": "0f3c9fa4",
   "metadata": {},
   "outputs": [
    {
     "name": "stdout",
     "output_type": "stream",
     "text": [
      "Is the robot bloced? False\n"
     ]
    }
   ],
   "source": [
    "print(\"Is the robot bloced?\", alphai.get_blockade()) # Check if the robot is blocked"
   ]
  },
  {
   "cell_type": "markdown",
   "id": "1ebe248a",
   "metadata": {},
   "source": [
    "* <11> set_distance(bool) --> None | Enables or disables the ultrasonic sensor."
   ]
  },
  {
   "cell_type": "code",
   "execution_count": null,
   "id": "37944977",
   "metadata": {},
   "outputs": [],
   "source": [
    "alphai.set_distance(True) # Enable the ultrasonic sensor"
   ]
  },
  {
   "cell_type": "code",
   "execution_count": null,
   "id": "75b1324d",
   "metadata": {},
   "outputs": [],
   "source": [
    "alphai.set_distance(False) # Disable the ultrasonic sensor"
   ]
  },
  {
   "cell_type": "markdown",
   "id": "5e31cf8f",
   "metadata": {},
   "source": [
    "* <12> get_distance() --> float | Returns the distance in centimetres measured by the ultrasonic sensor."
   ]
  },
  {
   "cell_type": "code",
   "execution_count": 38,
   "id": "127c4281",
   "metadata": {},
   "outputs": [
    {
     "name": "stdout",
     "output_type": "stream",
     "text": [
      "Distance: 66.06647034181991\n"
     ]
    }
   ],
   "source": [
    "alphai.set_distance(True)\n",
    "distance = alphai.get_distance() # Get the distance measured by the ultrasonic sensor\n",
    "print(\"Distance:\", distance) # Print the distance measured by the ultrasonic sensor"
   ]
  },
  {
   "cell_type": "code",
   "execution_count": null,
   "id": "d394d18a",
   "metadata": {},
   "outputs": [],
   "source": [
    "alphai.set_distance(False) "
   ]
  },
  {
   "cell_type": "markdown",
   "id": "17479955",
   "metadata": {},
   "source": [
    "* <13> set_camera(str) --> None | Activate camera with different resolution: \"2x1\",\"4x3\",\"8x6\",\"16x12\",\"32x24\",\"64x48\". When the parameter is None, deactivates the camera."
   ]
  },
  {
   "cell_type": "code",
   "execution_count": 42,
   "id": "b36ccfeb",
   "metadata": {},
   "outputs": [],
   "source": [
    "alphai.set_camera(\"2x1\") # Activate camera with 2x1 resolution"
   ]
  },
  {
   "cell_type": "code",
   "execution_count": null,
   "id": "7a8be593",
   "metadata": {},
   "outputs": [],
   "source": [
    "alphai.set_camera() # Deactivate camera"
   ]
  },
  {
   "cell_type": "markdown",
   "id": "9e5dfd58",
   "metadata": {},
   "source": [
    "* <14> get_camera() --> List | Returns the image taken by the robot's camera in the form of an array of integers."
   ]
  },
  {
   "cell_type": "code",
   "execution_count": null,
   "id": "3703eff9",
   "metadata": {},
   "outputs": [
    {
     "name": "stdout",
     "output_type": "stream",
     "text": [
      "Camera data: [[[235, 186, 190], [239, 208, 212]]]\n"
     ]
    }
   ],
   "source": [
    "alphai.set_camera(\"2x1\") \n",
    "\n",
    "data = alphai.get_camera() # Get the image taken by the robot's camera\n",
    "print(\"Camera data:\", data) # Print the image data"
   ]
  },
  {
   "cell_type": "markdown",
   "id": "fcf30c58",
   "metadata": {},
   "source": [
    "* <15> set_ir(str) --> None | Enabes or disables the robot's infrared line-tracking sensors. The parameter must be \"all\" or \"None\"."
   ]
  },
  {
   "cell_type": "code",
   "execution_count": 44,
   "id": "78912d83",
   "metadata": {},
   "outputs": [],
   "source": [
    "alphai.set_ir(\"all\") # Enable the infrared line-tracking sensors"
   ]
  },
  {
   "cell_type": "code",
   "execution_count": null,
   "id": "ca3ba060",
   "metadata": {},
   "outputs": [],
   "source": [
    "alphai.set_ir(\"None\") # Disable the infrared line-tracking sensors"
   ]
  },
  {
   "cell_type": "markdown",
   "id": "f1d3bc74",
   "metadata": {},
   "source": [
    "* <16> get_infra_red() --> list Returns the values measured by the robot's 5 infrared sensors in the form of an array of numbers between 0 and 1."
   ]
  },
  {
   "cell_type": "code",
   "execution_count": 45,
   "id": "dd25395e",
   "metadata": {},
   "outputs": [
    {
     "name": "stdout",
     "output_type": "stream",
     "text": [
      "Infrared data: [1.0, 1.0, 0.9950207741146376, 1.0, 1.0]\n"
     ]
    }
   ],
   "source": [
    "alphai.set_ir(\"all\") \n",
    "\n",
    "data = alphai.get_infra_red() # Get the values measured by the infrared sensors\n",
    "print(\"Infrared data:\", data) # Print the infrared sensor data"
   ]
  },
  {
   "cell_type": "markdown",
   "id": "e665460c",
   "metadata": {},
   "source": [
    "* <17> get_all_sensors() --> List | Returns the values of all the robot's sensors in the form of a list.\n",
    "* In the sequence of: obstacle, distance (in meters), infrared sensors, camera."
   ]
  },
  {
   "cell_type": "code",
   "execution_count": 46,
   "id": "238686d5",
   "metadata": {},
   "outputs": [
    {
     "name": "stdout",
     "output_type": "stream",
     "text": [
      "All sensors data: [False, 0.660664703418199, array([1., 1., 1., 1., 1.]), array([[[0.92335781, 0.73221566, 0.74499293],\n",
      "        [0.93868713, 0.81724157, 0.83171083]]])]\n"
     ]
    }
   ],
   "source": [
    "data = alphai.get_all_sensors() # Get the values of all the robot's sensors\n",
    "print(\"All sensors data:\", data) # Print the values of all the robot's sensors"
   ]
  }
 ],
 "metadata": {
  "kernelspec": {
   "display_name": "base",
   "language": "python",
   "name": "python3"
  },
  "language_info": {
   "codemirror_mode": {
    "name": "ipython",
    "version": 3
   },
   "file_extension": ".py",
   "mimetype": "text/x-python",
   "name": "python",
   "nbconvert_exporter": "python",
   "pygments_lexer": "ipython3",
   "version": "3.11.3"
  }
 },
 "nbformat": 4,
 "nbformat_minor": 5
}
